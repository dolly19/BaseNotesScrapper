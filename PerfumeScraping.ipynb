{
  "nbformat": 4,
  "nbformat_minor": 0,
  "metadata": {
    "colab": {
      "name": "PerfumeScraping.ipynb",
      "provenance": []
    },
    "kernelspec": {
      "name": "python3",
      "display_name": "Python 3"
    },
    "language_info": {
      "name": "python"
    }
  },
  "cells": [
    {
      "cell_type": "code",
      "execution_count": null,
      "metadata": {
        "colab": {
          "base_uri": "https://localhost:8080/"
        },
        "id": "bcS9GSI2a6UA",
        "outputId": "98667a30-a116-48b9-c859-a2aa67001687"
      },
      "outputs": [
        {
          "output_type": "stream",
          "name": "stdout",
          "text": [
            "Requirement already satisfied: requests in /usr/local/lib/python3.7/dist-packages (2.23.0)\n",
            "Requirement already satisfied: chardet<4,>=3.0.2 in /usr/local/lib/python3.7/dist-packages (from requests) (3.0.4)\n",
            "Requirement already satisfied: urllib3!=1.25.0,!=1.25.1,<1.26,>=1.21.1 in /usr/local/lib/python3.7/dist-packages (from requests) (1.24.3)\n",
            "Requirement already satisfied: idna<3,>=2.5 in /usr/local/lib/python3.7/dist-packages (from requests) (2.10)\n",
            "Requirement already satisfied: certifi>=2017.4.17 in /usr/local/lib/python3.7/dist-packages (from requests) (2021.10.8)\n",
            "Requirement already satisfied: html5lib in /usr/local/lib/python3.7/dist-packages (1.0.1)\n",
            "Requirement already satisfied: six>=1.9 in /usr/local/lib/python3.7/dist-packages (from html5lib) (1.15.0)\n",
            "Requirement already satisfied: webencodings in /usr/local/lib/python3.7/dist-packages (from html5lib) (0.5.1)\n",
            "Requirement already satisfied: bs4 in /usr/local/lib/python3.7/dist-packages (0.0.1)\n",
            "Requirement already satisfied: beautifulsoup4 in /usr/local/lib/python3.7/dist-packages (from bs4) (4.6.3)\n"
          ]
        }
      ],
      "source": [
        "# !pip install requests\n",
        "# !pip install html5lib\n",
        "# !pip install bs4"
      ]
    },
    {
      "cell_type": "code",
      "source": [
        "import requests\n",
        "from bs4 import BeautifulSoup\n",
        "from csv import writer"
      ],
      "metadata": {
        "id": "ywW_60r8bnhE"
      },
      "execution_count": 1,
      "outputs": []
    },
    {
      "cell_type": "code",
      "source": [
        "def PerfumeAgent(soup):\n",
        "  perfumerAgents = soup.find_all('div',class_ = \"bnflexfluid1\")\n",
        "  perfumer = list()\n",
        "  supplier =  list()\n",
        "  packaging = list()\n",
        "  originalBrand = list()\n",
        "  createdFor = list()\n",
        "\n",
        "  for j in perfumerAgents[1:]:\n",
        "    agentsList=  j.text.split()\n",
        "    if(agentsList[-1] == 'Perfumer'):\n",
        "      agent = j.find('a').text\n",
        "      perfumer.append(agent)\n",
        "    elif(agentsList[-1] == 'Supplier'): \n",
        "      agent = j.find('a').text\n",
        "      supplier.append(agent)\n",
        "    elif(agentsList[-1] == 'for'): \n",
        "      agent = j.find('a').text\n",
        "      createdFor.append(agent)\n",
        "    elif(agentsList[-1] == 'House'): \n",
        "      agent = j.find('a').text\n",
        "      originalBrand.append(agent)\n",
        "    else:\n",
        "      agent = j.find('a').text\n",
        "      packaging.append(agent)\n",
        "  \n",
        "  Perfumer = \" + \".join(perfumer)\n",
        "  Supplier = \" + \".join(supplier)\n",
        "  Packaging = \" + \".join(packaging)\n",
        "  CreatedFor = \" + \".join(createdFor)\n",
        "  OriginalBrand= \" + \".join(originalBrand)\n",
        "  \n",
        "  return Perfumer, Supplier, Packaging , CreatedFor, OriginalBrand"
      ],
      "metadata": {
        "id": "RNkHsUYLyShl"
      },
      "execution_count": null,
      "outputs": []
    },
    {
      "cell_type": "code",
      "source": [
        "def Availability(soup):\n",
        "  avail = soup.find('h1',class_ = 'font-heavy').find('span', {'class',\"\",'style', \"background:black;padding:8px;border-radius:5px;font-size:small;text-tranform:uppercase;\" })\n",
        "  if(avail == None):\n",
        "    availability = \"INPRODUCTION\"\n",
        "  else:\n",
        "    availability = avail.text\n",
        "  return availability"
      ],
      "metadata": {
        "id": "eWEPyngBZPij"
      },
      "execution_count": null,
      "outputs": []
    },
    {
      "cell_type": "code",
      "source": [
        "def helper(notes):\n",
        "  array = list()\n",
        "  for i in notes:\n",
        "   if(len(i)!=0):\n",
        "    array.append(i)\n",
        "   else:\n",
        "     pass\n",
        "  array= \" + \".join(array)\n",
        "  return array"
      ],
      "metadata": {
        "id": "VXIWGfnmyhyS"
      },
      "execution_count": null,
      "outputs": []
    },
    {
      "cell_type": "code",
      "source": [
        "def FraganceNotes(soup):\n",
        "  topNotes = [] \n",
        "  heartNotes = []  \n",
        "  baseNotes= [] \n",
        "  generalNotes = []\n",
        "  fraganceNotes = soup.find_all('ol', class_ = \"fragrancenotes\")\n",
        "  if(len(fraganceNotes) == 0):\n",
        "    return topNotes, heartNotes, baseNotes, generalNotes\n",
        "\n",
        "  notesCheck = fraganceNotes[0].find('li').find('h3')\n",
        "  fraganceNotes = fraganceNotes[0].find_all('ul')\n",
        "\n",
        "  if(notesCheck != None):\n",
        "    top = fraganceNotes[0].get_text().split('\\n')\n",
        "    topNotes = helper(top)\n",
        "    heart = fraganceNotes[1].get_text().split('\\n')\n",
        "    heartNotes = helper(heart)\n",
        "    base = fraganceNotes[2].get_text().split('\\n')\n",
        "    baseNotes = helper(base)\n",
        "\n",
        "  else:\n",
        "    general = fraganceNotes[0].get_text().split('\\n')\n",
        "    generalNotes = helper(general)\n",
        "\n",
        "  return topNotes, heartNotes, baseNotes, generalNotes"
      ],
      "metadata": {
        "id": "R7WfoxT-jFqD"
      },
      "execution_count": null,
      "outputs": []
    },
    {
      "cell_type": "code",
      "source": [
        "def Gender(soup):\n",
        "  F = soup.find_all('i', class_ = \"genderF fas fa-lg fa-venus\")\n",
        "  M = soup.find_all('i', class_ = \"genderM fas fa-lg fa-mars\")\n",
        "  U = soup.find_all('i', class_ = \"genderS fas fa-lg fa-venus-mars\")\n",
        "  if(len(F) != 0):\n",
        "    return \"Feminine\"\n",
        "  if (len(M) !=0):\n",
        "    return \"Masculine\"\n",
        "  if (len(U) != 0):\n",
        "    return \"Shared/Unisex\""
      ],
      "metadata": {
        "id": "YhoCTk-TFHDU"
      },
      "execution_count": null,
      "outputs": []
    },
    {
      "cell_type": "code",
      "source": [
        "def rating(soup):\n",
        "  Nostar = soup.find_all('i', class_ = \"fal fa-star\")\n",
        "  starsF = soup.find_all('i', class_ = \"fas fa-star\")\n",
        "  starsH = soup.find_all('i', class_ = \"fas fa-star-half-alt\")\n",
        "  if(len(Nostar)==1 & len(starsF)==0):\n",
        "    return 0\n",
        "  if(len(starsH)!=0):\n",
        "    full = len(starsF)+0.5\n",
        "  else:\n",
        "     full = len(starsF)\n",
        "  return full"
      ],
      "metadata": {
        "id": "iQL6DTbskQxf"
      },
      "execution_count": null,
      "outputs": []
    },
    {
      "cell_type": "code",
      "source": [
        "name = ''\n",
        "gender = ''\n",
        "year_of_launch = ''\n",
        "house = ''\n",
        "avg_rating = 0\n",
        "availability = ''\n",
        "perfumer =''\n",
        "packaging = ''\n",
        "parent_company = ''\n",
        "parent_company_at_launch = ''\n",
        "supplier = ''\n",
        "votes = 0\n",
        "topNotes = ''\n",
        "heartNotes = ''\n",
        "baseNotes = ''\n",
        "generalNotes = ''\n",
        "count =1\n",
        "page = 1\n",
        "\n",
        "with open('perfume.csv', 'w', encoding='utf8', newline='') as f:\n",
        "  thewriter = writer(f)\n",
        "  header = ['name','year_of_launch','gender','availability','votes','avg_rating','house','perfumer','packaging','parent_company','supplier','parent_company_at_launch','top_notes','heart_notes','base_notes','general_notes']\n",
        "  thewriter.writerow(header)\n",
        "\n",
        "  while page != 35:\n",
        "    url = f\"https://basenotes.com/fragrances/page-{page}?launch=2020-2029\"\n",
        "    pageUrl = requests.get(url)\n",
        "    Soup = BeautifulSoup(pageUrl.content, 'html.parser')\n",
        "    lists = Soup.find_all('div', class_=\"bncard card6\")\n",
        "    print(\"Page \",page)\n",
        "    for i in lists:\n",
        "\n",
        "      print(\"Product \",count)\n",
        "      link = f'https://basenotes.com{i.find(\"a\")[\"href\"]}'\n",
        "      # print(link)\n",
        "      eachPage = requests.get(link)\n",
        "      soup = BeautifulSoup(eachPage.content, 'html.parser')\n",
        "      heading = soup.find('h1',class_ = 'font-heavy')\n",
        "      if(heading == None):\n",
        "        print(\"product \",count,\" html page couldn't load\")\n",
        "      else:\n",
        "        year =  i.find('p').text.split()\n",
        "        year_of_launch = year[-1].replace('(',\"\").replace(')',\"\")\n",
        "        name  = heading.find('span',{'itemprop':\"Name\"}).text\n",
        "        house = heading.find('span',{'itemprop':\"name\"}).text\n",
        "        avg_rating = rating(soup)\n",
        "        reviewsCheck = soup.find('i', class_ = \"fas fa-comment-exclamation\")\n",
        "        if(reviewsCheck == None):\n",
        "          votes =0\n",
        "        else:\n",
        "          reviews = soup.find('div', class_ = \"bntopdeets\").find_all('span')\n",
        "          votes = reviews[-1].text.split()[0]\n",
        "        gender = Gender(soup)\n",
        "        availability = Availability(soup)\n",
        "        perfumer, supplier,packaging, parent_company_at_launch, parent_company = PerfumeAgent(soup)\n",
        "        topNotes, heartNotes, baseNotes, generalNotes = FraganceNotes(soup)\n",
        "        \n",
        "        info = [name,year_of_launch,gender,availability,votes,avg_rating,house,perfumer,packaging,parent_company,supplier,parent_company_at_launch,topNotes,heartNotes,baseNotes,generalNotes]\n",
        "        thewriter.writerow(info)\n",
        "\n",
        "      count = count+1\n",
        "      \n",
        "    page = page + 1\n",
        "\n",
        "print(\"-------------------------------------Data Collected--------------------------------------------------------\")"
      ],
      "metadata": {
        "id": "4l0QgRiZ1qvq"
      },
      "execution_count": null,
      "outputs": []
    }
  ]
}